{
 "cells": [
  {
   "cell_type": "code",
   "execution_count": null,
   "id": "0eb0d40d",
   "metadata": {},
   "outputs": [],
   "source": [
    "#default_exp cli"
   ]
  },
  {
   "cell_type": "code",
   "execution_count": null,
   "id": "da4c7cd8",
   "metadata": {},
   "outputs": [],
   "source": [
    "#hide\n",
    "%load_ext autoreload\n",
    "%autoreload 2"
   ]
  },
  {
   "cell_type": "code",
   "execution_count": null,
   "id": "8015ebf2",
   "metadata": {},
   "outputs": [],
   "source": [
    "#hide\n",
    "from nbdev.export import notebook2script"
   ]
  },
  {
   "cell_type": "code",
   "execution_count": null,
   "id": "f1dfc060",
   "metadata": {},
   "outputs": [],
   "source": [
    "#hide\n",
    "#test\n",
    "import os\n",
    "import tempfile\n",
    "\n",
    "from myslideslive.test_helper import _cd_temp"
   ]
  },
  {
   "cell_type": "code",
   "execution_count": null,
   "id": "fd646437",
   "metadata": {},
   "outputs": [],
   "source": [
    "#export\n",
    "import argparse\n",
    "\n",
    "from myslideslive.slideslive import SlidesLive"
   ]
  },
  {
   "cell_type": "markdown",
   "id": "64c6a806",
   "metadata": {},
   "source": [
    "# Command Line Interface\n",
    "\n",
    "> Process your SlidesLive presentation directly from terminal."
   ]
  },
  {
   "cell_type": "code",
   "execution_count": null,
   "id": "dd4d9d23",
   "metadata": {},
   "outputs": [],
   "source": [
    "#hide\n",
    "#export\n",
    "parser = argparse.ArgumentParser(description='Take care of your SlidesLive slides...')\n",
    "\n",
    "parser.add_argument('url', type=str, help='SlidesLive URL', nargs=1)\n",
    "parser.add_argument('--size', default='xlarge', type=str, help='Slide size: small, medium, large or xlarge')\n",
    "parser.add_argument('--waittime', default=0.2, type=float, help='Seconds to wait after downloading each slide')\n",
    "parser.add_argument('--lastduration', default=None, type=int, help='The duration of last slide in seconds')\n",
    "\n",
    "parser.add_argument('--time', default=None,\n",
    "                    nargs=2, type=tuple, metavar=('MIN_TIME', 'MAX_TIME'),\n",
    "                    help='A time range used to extract slides (use None for one of '\n",
    "                         'the values to get min or max range)')\n",
    "parser.add_argument('--slide', default=None,\n",
    "                    nargs=2, type=tuple, metavar=('MIN_SLIDE_ID', 'MAX_SLIDE_ID'),\n",
    "                    help='A range of slide IDs to extract (use None for one of '\n",
    "                         'the values to get min or max range)')"
   ]
  },
  {
   "cell_type": "code",
   "execution_count": null,
   "id": "0ef1330a",
   "metadata": {},
   "outputs": [],
   "source": [
    "#hide\n",
    "#export\n",
    "def main():\n",
    "    \"\"\"Defines command line interface.\"\"\"\n",
    "    args = parser.parse_args()\n",
    "    if args.size not in ('small', 'medium', 'large', 'xlarge'):\n",
    "        raise RuntimeError('The slide size can only be *small*, *medium*, *large* or *xlarge*.')\n",
    "\n",
    "    if args.slide is not None:\n",
    "        assert len(args.slide) == 2\n",
    "        s1 = ''.join(args.slide[0])\n",
    "        if s1.isdecimal():\n",
    "            s1 = int(s1)\n",
    "        elif s1.lower() == 'none':\n",
    "            s1 = None\n",
    "        else:\n",
    "            raise RuntimeError('--slide MIN_SLIDE_ID must either be an integer '\n",
    "                               f'or None.\\n{s1} was given.')\n",
    "        s2 = ''.join(args.slide[1])\n",
    "        if s2.isdecimal():\n",
    "            s2 = int(s2)\n",
    "        elif s2.lower() == 'none':\n",
    "            s2 = None\n",
    "        else:\n",
    "            raise RuntimeError('--slide MAX_SLIDE_ID must either be an integer '\n",
    "                               f'or None.\\n{s2} was given.')\n",
    "        slide = (s1, s2)\n",
    "    else:\n",
    "        slide = None\n",
    "\n",
    "    if args.time is not None:\n",
    "        assert len(args.time) == 2\n",
    "        t1 = ''.join(args.time[0])\n",
    "        if t1.isdecimal():\n",
    "            t1 = int(t1)\n",
    "        elif t1.lower() == 'none':\n",
    "            t1 = None\n",
    "        else:\n",
    "            raise RuntimeError('--time MIN_TIME must either be an integer '\n",
    "                               f'or None.\\n{t1} was given.')\n",
    "        t2 = ''.join(args.time[1])\n",
    "        if t2.isdecimal():\n",
    "            t2 = int(t2)\n",
    "        elif t2.lower() == 'none':\n",
    "            t2 = None\n",
    "        else:\n",
    "            raise RuntimeError('--slide MAX_TIME must either be an integer '\n",
    "                               f'or None.\\n{t2} was given.')\n",
    "        time = (t1, t2)\n",
    "    else:\n",
    "        time = None\n",
    "\n",
    "    assert isinstance(args.url ,list) and len(args.url) == 1\n",
    "    url = args.url[0]\n",
    "\n",
    "    msl = SlidesLive(url)\n",
    "    msl.download_slides(slide_type=args.size,\n",
    "                        slide=slide,\n",
    "                        time=time,\n",
    "                        sleep_time=args.waittime)\n",
    "    msl.compose_video(last_duration=args.lastduration)"
   ]
  },
  {
   "cell_type": "code",
   "execution_count": null,
   "id": "3161f8c2",
   "metadata": {},
   "outputs": [],
   "source": [
    "#hide_input\n",
    "print(\n",
    "    parser.format_help().replace('ipykernel_launcher.py', 'mls')\n",
    ")"
   ]
  },
  {
   "cell_type": "markdown",
   "id": "a4ef95f0",
   "metadata": {},
   "source": [
    "E.g.,\n",
    "```bash\n",
    "msl --slide 1074 1075 \\\n",
    "https://slideslive.com/38956531/beyond-static-papers-rethinking-how-we-share-scientific-understanding-in-ml\n",
    "```\n",
    "to replicate the exmaple from the `SlidesLive` class documentation."
   ]
  },
  {
   "cell_type": "code",
   "execution_count": null,
   "id": "cff3b7db",
   "metadata": {},
   "outputs": [],
   "source": [
    "#hide\n",
    "#test\n",
    "CWD = os.getcwd()"
   ]
  },
  {
   "cell_type": "code",
   "execution_count": null,
   "id": "6893e1c6",
   "metadata": {},
   "outputs": [],
   "source": [
    "#hide\n",
    "#test\n",
    "with tempfile.TemporaryDirectory() as tempdir:\n",
    "    with _cd_temp(tempdir):\n",
    "        assert os.getcwd().endswith(tempdir)\n",
    "        assert os.path.exists(tempdir) and os.path.isdir(tempdir)\n",
    "\n",
    "        ! msl --slide 1074 1075 \\\n",
    "          https://slideslive.com/38956531/beyond-static-papers-rethinking-how-we-share-scientific-understanding-in-ml\n",
    "        \n",
    "        assert os.path.exists('38956531') and os.path.isdir('38956531')\n",
    "        assert os.path.isfile('38956531/01074.png') and os.path.isfile('38956531/01075.png')\n",
    "        assert os.path.isfile('38956531.mp4')\n",
    "\n",
    "    assert os.getcwd() == CWD"
   ]
  },
  {
   "cell_type": "code",
   "execution_count": null,
   "id": "caec9088",
   "metadata": {},
   "outputs": [],
   "source": [
    "#hide\n",
    "# needed to prevent test fail in the following cell\n",
    "__name__ = '__notebook__'"
   ]
  },
  {
   "cell_type": "code",
   "execution_count": null,
   "id": "aa148c14",
   "metadata": {},
   "outputs": [],
   "source": [
    "#hide\n",
    "#export\n",
    "if __name__ == '__main__':\n",
    "    main()"
   ]
  },
  {
   "cell_type": "code",
   "execution_count": null,
   "id": "0287ade9",
   "metadata": {},
   "outputs": [],
   "source": [
    "#hide\n",
    "notebook2script()"
   ]
  },
  {
   "cell_type": "code",
   "execution_count": null,
   "id": "d722cda3",
   "metadata": {},
   "outputs": [],
   "source": []
  }
 ],
 "metadata": {
  "kernelspec": {
   "display_name": "Python 3 (ipykernel)",
   "language": "python",
   "name": "python3"
  }
 },
 "nbformat": 4,
 "nbformat_minor": 5
}
